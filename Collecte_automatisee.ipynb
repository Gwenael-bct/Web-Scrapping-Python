{
 "cells": [
  {
   "cell_type": "markdown",
   "metadata": {},
   "source": [
    "# Collecte automatisée en python d'un site\n",
    "\n",
    "- dates de révision :\n",
    "\n",
    "## Binôme : \n",
    "- nom1 prenom1 adresse UBS couriel1 (implication dans collecte : - [ ] Oui - [ ] Non) ;\n",
    "- nom2 prenom2 adresse UBS couriel2 (implication dans collecte : - [ ] Oui - [ ] Non).\n",
    "\n",
    "## Expérience préalable dans la collecte automatisée\n",
    "Si impliqué dans la collecte, (reproduire le paragraphe si aussi deuxième binôme)\n",
    "- nom1 prenom1 : [ ] j'ai refait voire reproduit et étudier attentivement les exemples du cours concernant :\n",
    "    - [ ] urllib - [ ] Requests - [ ] re - [ ] lxml - [ ] bs4 - [ ] scrapy - [ ] selenium - [ ] scrapy-selenium \n",
    "- J'ai étudié exhaustivement la documentation officielle de :\n",
    "    - [ ] urllib - [ ] Requests - [ ] re - [ ] lxml - [ ] bs4 - [ ] scrapy - [ ] selenium - [ ] scrapy-selenium \n",
    "- J'ai déjà collecté des informations sur X sites utilisant simplement html comme moteur de rendu de l'information (voir les fiches Y, Z)\n",
    "- J'ai déjà collecté des informations sur X sites utilisant javascript / AJAX comme moteur de rendu de l'information (voir les fiches Y, Z)\n",
    "- J'ai déjà été confronté à des mesures de rétorsion / défense de sites comme :\n",
    "    - [ ] banissement IP - [ ] Captcha  - [ ] Obligation de s'identifier via un compte - [ ] Autre : préciser\n",
    "\n",
    "## Site :\n",
    "- URL :\n",
    "- Description du site :\n",
    "- Date de l'étude de ce site : \n",
    "- Technologie de rendu des informations clés à récupérer suite à l'analyse préalable : - [ ] HTML - [x] Javascript\n",
    "\n",
    "## Analyse préalable :\n",
    "- Qualification du cas : - [ ] Simple - [ ] Complexe \n",
    "- Outils utilisés : - [ ] Inspecter de FireFox - [x] Inspecter de Chrome - [ ] scrapy shell\n",
    "- Sélecteurs utilisés donc envisagés pour la programmation : - [ ] CSS - [ ] Xpath\n",
    "- Modules python pour la collecte de document : - [ ] urllib - [ ] Requests - [ ] j'utilise srapy\n",
    "- Modules python pour l'analyse de document : - [ ] re - [ ] lxml - [ ] bs4 - [ ] j'utilise srapy\n",
    "\n",
    "- Pour chacune des informations recherchées, décrire en français votre stratégie de collecte puis exprimez cette stratégie sous forme opérationnelle (règle, expression bs4, expression réguliere, utilisation de fonction dans la scrapy shell, etc.\n",
    "    - ID_Produit ;\n",
    "    - Libelle_produit ;\n",
    "    - Description_produit ;\n",
    "    - Prit_unitaire_HT_produit ;\n",
    "    - code_barre_produit ;\n",
    "    - catégorie_produit ;\n",
    "    - sous_catégorie_produit ;\n",
    "    - famille_produit."
   ]
  },
  {
   "cell_type": "markdown",
   "metadata": {},
   "source": []
  },
  {
   "cell_type": "markdown",
   "metadata": {},
   "source": [
    "## Programmation de la collecte :\n",
    "Pour toutes les technologies utilisées, on a vu qu'elles pouvaient être lancée depuis un notebook jupyter. Par contre pour une programmation pro scrapy exige un projet bien structuré. Il s'agit là de donner un programme qui ne récupère que les dix premiers exemplaires des informations recherchées. Mettre un lien vers l'archive contenant les programmes qui font la collecte exhaustive.\n",
    "\n",
    "La collecte s'est elle déroulée en plusieurs fois ? - [ ] non - [ ] oui\n",
    "\n",
    "Si non, date de la collecte exhaustive et nombre de produits collectés :\n",
    "\n",
    "Si oui, dates et pour chacune d'elles nombre de produits collectés :\n",
    "\n",
    "\n",
    "### Programme qui récupère les dix premers produits"
   ]
  },
  {
   "cell_type": "code",
   "execution_count": null,
   "metadata": {
    "scrolled": true
   },
   "outputs": [
    {
     "ename": "",
     "evalue": "",
     "output_type": "error",
     "traceback": [
      "\u001b[1;31mRunning cells with 'c:\\Users\\gbauchet\\AppData\\Local\\Microsoft\\WindowsApps\\python3.11.exe' requires the ipykernel package.\n",
      "\u001b[1;31mRun the following command to install 'ipykernel' into the Python environment. \n",
      "\u001b[1;31mCommand: 'c:/Users/gbauchet/AppData/Local/Microsoft/WindowsApps/python3.11.exe -m pip install ipykernel -U --user --force-reinstall'"
     ]
    }
   ],
   "source": [
    "!pip install bs4\n",
    "import requests\n",
    "from bs4 import BeautifulSoup"
   ]
  },
  {
   "cell_type": "code",
   "execution_count": 3,
   "metadata": {
    "scrolled": true
   },
   "outputs": [],
   "source": [
    "main_url = \"https://www.electrodepot.fr/gros-electromenager.html\"\n",
    "url_sons = 'https://www.electrodepot.fr/tv-image-son.html'"
   ]
  },
  {
   "cell_type": "code",
   "execution_count": 4,
   "metadata": {
    "scrolled": true
   },
   "outputs": [],
   "source": [
    "import requests\n",
    "result = requests.get(main_url)\n",
    "sons = requests.get(url_sons)"
   ]
  },
  {
   "cell_type": "code",
   "execution_count": 5,
   "metadata": {
    "scrolled": false
   },
   "outputs": [],
   "source": [
    "from bs4 import BeautifulSoup\n",
    "soup = BeautifulSoup(result.text, 'html.parser')\n",
    "soup1 = BeautifulSoup(sons.text, 'html.parser')\n"
   ]
  },
  {
   "cell_type": "code",
   "execution_count": 6,
   "metadata": {
    "scrolled": true
   },
   "outputs": [],
   "source": [
    "LAVE_LINGE   = soup.find('div', attrs={'class' :\"univers\"}).div.h2.a.text\n",
    "LAVE_LINGE\n",
    "sons = soup1.find('div', attrs={'class' :\"univers\"})\n"
   ]
  },
  {
   "cell_type": "code",
   "execution_count": 7,
   "metadata": {
    "scrolled": true
   },
   "outputs": [],
   "source": [
    "liens = soup.find_all('li', attrs={'class' :\"child\"})\n",
    "\n",
    "liens2 = soup1.find_all('li', attrs={'class' :\"child\"})\n"
   ]
  },
  {
   "cell_type": "code",
   "execution_count": 8,
   "metadata": {
    "scrolled": true
   },
   "outputs": [],
   "source": [
    "sous_categ1 = [lien.h3.a.text for lien in liens]\n",
    "all_liens = [lien.h3.a.get('href') for lien in liens]\n",
    "categ = 'éléctroménager'\n",
    "categ2 = 'sons'\n",
    "sous_categ2 = [lien.h3.a.text for lien in liens2]\n",
    "all_liens2 = [lien.h3.a.get('href') for lien in liens2]"
   ]
  },
  {
   "cell_type": "code",
   "execution_count": 9,
   "metadata": {
    "scrolled": true
   },
   "outputs": [],
   "source": [
    "import pandas as pd"
   ]
  },
  {
   "cell_type": "markdown",
   "metadata": {},
   "source": [
    "# Dictionnaire sous catégories"
   ]
  },
  {
   "cell_type": "code",
   "execution_count": 10,
   "metadata": {
    "scrolled": true
   },
   "outputs": [],
   "source": [
    "dict_electromenager = {'categories' : categ, 'sous_categ' : sous_categ1, 'lien' : all_liens }\n",
    "dict_sons_image = { 'categories' : categ2,'sous_categ' : sous_categ2, 'lien' : all_liens2 }"
   ]
  },
  {
   "cell_type": "markdown",
   "metadata": {},
   "source": [
    "## Id sous_categories"
   ]
  },
  {
   "cell_type": "code",
   "execution_count": 11,
   "metadata": {
    "scrolled": true
   },
   "outputs": [
    {
     "name": "stdout",
     "output_type": "stream",
     "text": [
      "https://www.electrodepot.fr/gros-electromenager/lave-linge/lave-linge-hublot.html\n"
     ]
    }
   ],
   "source": [
    "sous_categ = sous_categ1+sous_categ2\n",
    "liste_liens = all_liens+all_liens2\n",
    "id_sous_categ = []\n",
    "b=1\n",
    "for i in range(0, len(sous_categ)):\n",
    "    id_sous_categ.append(b)\n",
    "    b+=1    \n",
    "print('https://www.electrodepot.fr/gros-electromenager/lave-linge/lave-linge-hublot.html')"
   ]
  },
  {
   "cell_type": "code",
   "execution_count": 12,
   "metadata": {
    "scrolled": true
   },
   "outputs": [],
   "source": [
    "def emplacement_carac(elem, carac, liste):\n",
    "    for pos,a in enumerate(elem):\n",
    "        if a == carac:\n",
    "            liste.append(pos)\n",
    "    "
   ]
  },
  {
   "cell_type": "markdown",
   "metadata": {},
   "source": [
    "## Id categories"
   ]
  },
  {
   "cell_type": "code",
   "execution_count": 13,
   "metadata": {
    "scrolled": true
   },
   "outputs": [
    {
     "name": "stdout",
     "output_type": "stream",
     "text": [
      "[1, 1, 1, 1, 2, 2, 2, 2, 3, 3, 3, 4, 4, 4, 4, 4, 4, 4, 4, 5, 5, 5, 6, 6, 6, 6, 7, 7, 7, 7, 7, 7, 7, 8, 8, 8, 8, 8, 8, 8, 9, 9, 9, 9, 10, 10, 10, 10, 10, 11, 11, 11, 12, 12, 12, 12, 13, 13, 13, 14, 14, 14, 14, 15, 15, 15, 15, 15, 16, 16, 16, 17, 17, 17, 17, 18, 18, 18, 19, 19, 19, 19, 19]\n"
     ]
    }
   ],
   "source": [
    "id_categ1=[]\n",
    "id1 = 1\n",
    "tiret = []\n",
    "d = 'lave-linge'\n",
    "for i in liste_liens:\n",
    "    emplacement_carac(i, '/', tiret)\n",
    "    a = tiret[3]\n",
    "    b = tiret[4]\n",
    "    c = i[a+1 : b]\n",
    "    if c == d:\n",
    "        id_categ1.append(id1)\n",
    "    else :\n",
    "        id1+=1\n",
    "        id_categ1.append(id1)\n",
    "    d = i[a+1 : b]\n",
    "    tiret = []\n",
    "print(id_categ1)"
   ]
  },
  {
   "cell_type": "markdown",
   "metadata": {},
   "source": [
    "## Id famille"
   ]
  },
  {
   "cell_type": "code",
   "execution_count": 14,
   "metadata": {
    "scrolled": true
   },
   "outputs": [],
   "source": [
    "id_famille2 = []\n",
    "for i in id_categ1:\n",
    "    if i<10:\n",
    "        id_famille2.append(1)\n",
    "    elif 10<=i<14:\n",
    "        id_famille2.append(2)\n",
    "    else:\n",
    "        id_famille2.append(3)\n"
   ]
  },
  {
   "cell_type": "code",
   "execution_count": 15,
   "metadata": {},
   "outputs": [],
   "source": [
    "lower_sous_categ = []\n",
    "for i in sous_categ:\n",
    "    lower_sous_categ.append(i.lower())\n",
    "\n",
    "for i in range(len(lower_sous_categ)):\n",
    "        lower_sous_categ[i] = lower_sous_categ[i].replace(\", \", \"-\")\n",
    "        lower_sous_categ[i] = lower_sous_categ[i].replace(\"  \", \"\")\n",
    "for i in range(len(lower_sous_categ)):\n",
    "        lower_sous_categ[i] = lower_sous_categ[i].replace(\" \", \"-\")\n",
    "        lower_sous_categ[i] = lower_sous_categ[i].replace(\"é\", \"e\")\n",
    "        lower_sous_categ[i] = lower_sous_categ[i].replace(\"è\", \"e\")"
   ]
  },
  {
   "cell_type": "code",
   "execution_count": 16,
   "metadata": {
    "scrolled": true
   },
   "outputs": [
    {
     "data": {
      "text/html": [
       "<div>\n",
       "<style scoped>\n",
       "    .dataframe tbody tr th:only-of-type {\n",
       "        vertical-align: middle;\n",
       "    }\n",
       "\n",
       "    .dataframe tbody tr th {\n",
       "        vertical-align: top;\n",
       "    }\n",
       "\n",
       "    .dataframe thead th {\n",
       "        text-align: right;\n",
       "    }\n",
       "</style>\n",
       "<table border=\"1\" class=\"dataframe\">\n",
       "  <thead>\n",
       "    <tr style=\"text-align: right;\">\n",
       "      <th></th>\n",
       "      <th>id_famille</th>\n",
       "      <th>id_categ</th>\n",
       "      <th>id_sous_categ</th>\n",
       "      <th>sous_categ</th>\n",
       "      <th>lien</th>\n",
       "    </tr>\n",
       "  </thead>\n",
       "  <tbody>\n",
       "    <tr>\n",
       "      <th>0</th>\n",
       "      <td>1</td>\n",
       "      <td>1</td>\n",
       "      <td>1</td>\n",
       "      <td>lave-linge-hublot</td>\n",
       "      <td>https://www.electrodepot.fr/gros-electromenage...</td>\n",
       "    </tr>\n",
       "    <tr>\n",
       "      <th>1</th>\n",
       "      <td>1</td>\n",
       "      <td>1</td>\n",
       "      <td>2</td>\n",
       "      <td>lave-linge-sechant</td>\n",
       "      <td>https://www.electrodepot.fr/gros-electromenage...</td>\n",
       "    </tr>\n",
       "    <tr>\n",
       "      <th>2</th>\n",
       "      <td>1</td>\n",
       "      <td>1</td>\n",
       "      <td>3</td>\n",
       "      <td>lave-linge-top</td>\n",
       "      <td>https://www.electrodepot.fr/gros-electromenage...</td>\n",
       "    </tr>\n",
       "    <tr>\n",
       "      <th>3</th>\n",
       "      <td>1</td>\n",
       "      <td>1</td>\n",
       "      <td>4</td>\n",
       "      <td>kit-de-superposition-raccordement-lave-linge</td>\n",
       "      <td>https://www.electrodepot.fr/gros-electromenage...</td>\n",
       "    </tr>\n",
       "    <tr>\n",
       "      <th>4</th>\n",
       "      <td>1</td>\n",
       "      <td>2</td>\n",
       "      <td>5</td>\n",
       "      <td>seche-linge-condensation</td>\n",
       "      <td>https://www.electrodepot.fr/gros-electromenage...</td>\n",
       "    </tr>\n",
       "    <tr>\n",
       "      <th>...</th>\n",
       "      <td>...</td>\n",
       "      <td>...</td>\n",
       "      <td>...</td>\n",
       "      <td>...</td>\n",
       "      <td>...</td>\n",
       "    </tr>\n",
       "    <tr>\n",
       "      <th>78</th>\n",
       "      <td>3</td>\n",
       "      <td>19</td>\n",
       "      <td>79</td>\n",
       "      <td>enceinte-sono</td>\n",
       "      <td>https://www.electrodepot.fr/tv-image-son/sono-...</td>\n",
       "    </tr>\n",
       "    <tr>\n",
       "      <th>79</th>\n",
       "      <td>3</td>\n",
       "      <td>19</td>\n",
       "      <td>80</td>\n",
       "      <td>mixage-controleur-usb-casque-dj</td>\n",
       "      <td>https://www.electrodepot.fr/tv-image-son/sono-...</td>\n",
       "    </tr>\n",
       "    <tr>\n",
       "      <th>80</th>\n",
       "      <td>3</td>\n",
       "      <td>19</td>\n",
       "      <td>81</td>\n",
       "      <td>synthetiseur</td>\n",
       "      <td>https://www.electrodepot.fr/tv-image-son/sono-...</td>\n",
       "    </tr>\n",
       "    <tr>\n",
       "      <th>81</th>\n",
       "      <td>3</td>\n",
       "      <td>19</td>\n",
       "      <td>82</td>\n",
       "      <td>jeux-de-lumiere-trepied</td>\n",
       "      <td>https://www.electrodepot.fr/tv-image-son/sono-...</td>\n",
       "    </tr>\n",
       "    <tr>\n",
       "      <th>82</th>\n",
       "      <td>3</td>\n",
       "      <td>19</td>\n",
       "      <td>83</td>\n",
       "      <td>guitare</td>\n",
       "      <td>https://www.electrodepot.fr/tv-image-son/sono-...</td>\n",
       "    </tr>\n",
       "  </tbody>\n",
       "</table>\n",
       "<p>83 rows × 5 columns</p>\n",
       "</div>"
      ],
      "text/plain": [
       "    id_famille  id_categ  id_sous_categ  \\\n",
       "0            1         1              1   \n",
       "1            1         1              2   \n",
       "2            1         1              3   \n",
       "3            1         1              4   \n",
       "4            1         2              5   \n",
       "..         ...       ...            ...   \n",
       "78           3        19             79   \n",
       "79           3        19             80   \n",
       "80           3        19             81   \n",
       "81           3        19             82   \n",
       "82           3        19             83   \n",
       "\n",
       "                                      sous_categ  \\\n",
       "0                              lave-linge-hublot   \n",
       "1                             lave-linge-sechant   \n",
       "2                                 lave-linge-top   \n",
       "3   kit-de-superposition-raccordement-lave-linge   \n",
       "4                       seche-linge-condensation   \n",
       "..                                           ...   \n",
       "78                                 enceinte-sono   \n",
       "79               mixage-controleur-usb-casque-dj   \n",
       "80                                  synthetiseur   \n",
       "81                       jeux-de-lumiere-trepied   \n",
       "82                                       guitare   \n",
       "\n",
       "                                                 lien  \n",
       "0   https://www.electrodepot.fr/gros-electromenage...  \n",
       "1   https://www.electrodepot.fr/gros-electromenage...  \n",
       "2   https://www.electrodepot.fr/gros-electromenage...  \n",
       "3   https://www.electrodepot.fr/gros-electromenage...  \n",
       "4   https://www.electrodepot.fr/gros-electromenage...  \n",
       "..                                                ...  \n",
       "78  https://www.electrodepot.fr/tv-image-son/sono-...  \n",
       "79  https://www.electrodepot.fr/tv-image-son/sono-...  \n",
       "80  https://www.electrodepot.fr/tv-image-son/sono-...  \n",
       "81  https://www.electrodepot.fr/tv-image-son/sono-...  \n",
       "82  https://www.electrodepot.fr/tv-image-son/sono-...  \n",
       "\n",
       "[83 rows x 5 columns]"
      ]
     },
     "execution_count": 16,
     "metadata": {},
     "output_type": "execute_result"
    }
   ],
   "source": [
    "dict_sous_categ = { 'id_famille' : id_famille2, 'id_categ' : id_categ1, 'id_sous_categ' : id_sous_categ, 'sous_categ' : lower_sous_categ, 'lien' : liste_liens }\n",
    "pd.DataFrame(dict_sous_categ)"
   ]
  },
  {
   "cell_type": "markdown",
   "metadata": {},
   "source": [
    "# Dictionnaire  catégories"
   ]
  },
  {
   "cell_type": "code",
   "execution_count": 17,
   "metadata": {
    "scrolled": true
   },
   "outputs": [],
   "source": [
    "prod1 = soup.find_all('h2', attrs={'class' :\"title\"})\n",
    "prod2 = soup1.find_all('h2', attrs={'class' :\"title\"})\n",
    "all_prod1 = [produit.a.text for produit in prod1]\n",
    "all_liens_prod1 = [produit.a.get('href') for produit in prod1]\n",
    "all_prod2 = [produit.a.text for produit in prod2]\n",
    "all_liens_prod2 = [produit.a.get('href') for produit in prod2]\n",
    "all_prod = all_prod1+all_prod2\n",
    "all_liens_prod = all_liens_prod1+all_liens_prod2\n",
    "id_famille=[]\n",
    "for i in range(0, len(all_prod1)):\n",
    "    id_famille.append(1)\n",
    "for i in range(0, len(all_prod2[0:4])):\n",
    "    id_famille.append(2)\n",
    "for i in range(0, len(all_prod2[4:])):\n",
    "    id_famille.append(3)    \n",
    "id_categ=[]\n",
    "a=1\n",
    "for i in all_prod:\n",
    "    id_categ.append(a)\n",
    "    a+=1\n",
    "  \n",
    "    "
   ]
  },
  {
   "cell_type": "code",
   "execution_count": 18,
   "metadata": {
    "scrolled": true
   },
   "outputs": [],
   "source": [
    "id_famille=[]\n",
    "for i in range(0, len(all_prod1)):\n",
    "    id_famille.append(1)\n",
    "for i in range(0, len(all_prod2[0:4])):\n",
    "    id_famille.append(2)\n",
    "for i in range(0, len(all_prod2[4:])):\n",
    "    id_famille.append(3)   "
   ]
  },
  {
   "cell_type": "code",
   "execution_count": 19,
   "metadata": {},
   "outputs": [],
   "source": [
    "lower_categ = []\n",
    "for i in all_prod:\n",
    "    lower_categ.append(i.lower())\n",
    "\n",
    "for i in range(len(lower_categ)):\n",
    "        lower_categ[i] = lower_categ[i].replace(\", \", \"-\")\n",
    "        lower_categ[i] = lower_categ[i].replace(\"  \", \"\")\n",
    "for i in range(len(lower_categ)):\n",
    "        lower_categ[i] = lower_categ[i].replace(\" \", \"-\")\n",
    "        lower_categ[i] = lower_categ[i].replace(\"é\", \"e\")\n",
    "        lower_categ[i] = lower_categ[i].replace(\"è\", \"e\")\n"
   ]
  },
  {
   "cell_type": "code",
   "execution_count": 20,
   "metadata": {
    "scrolled": true
   },
   "outputs": [
    {
     "data": {
      "text/html": [
       "<div>\n",
       "<style scoped>\n",
       "    .dataframe tbody tr th:only-of-type {\n",
       "        vertical-align: middle;\n",
       "    }\n",
       "\n",
       "    .dataframe tbody tr th {\n",
       "        vertical-align: top;\n",
       "    }\n",
       "\n",
       "    .dataframe thead th {\n",
       "        text-align: right;\n",
       "    }\n",
       "</style>\n",
       "<table border=\"1\" class=\"dataframe\">\n",
       "  <thead>\n",
       "    <tr style=\"text-align: right;\">\n",
       "      <th></th>\n",
       "      <th>famille</th>\n",
       "      <th>id_categ</th>\n",
       "      <th>categ</th>\n",
       "      <th>liens</th>\n",
       "    </tr>\n",
       "  </thead>\n",
       "  <tbody>\n",
       "    <tr>\n",
       "      <th>0</th>\n",
       "      <td>1</td>\n",
       "      <td>1</td>\n",
       "      <td>lave-linge</td>\n",
       "      <td>https://www.electrodepot.fr/gros-electromenage...</td>\n",
       "    </tr>\n",
       "    <tr>\n",
       "      <th>1</th>\n",
       "      <td>1</td>\n",
       "      <td>2</td>\n",
       "      <td>seche-linge</td>\n",
       "      <td>https://www.electrodepot.fr/gros-electromenage...</td>\n",
       "    </tr>\n",
       "    <tr>\n",
       "      <th>2</th>\n",
       "      <td>1</td>\n",
       "      <td>3</td>\n",
       "      <td>lave-vaisselle</td>\n",
       "      <td>https://www.electrodepot.fr/gros-electromenage...</td>\n",
       "    </tr>\n",
       "    <tr>\n",
       "      <th>3</th>\n",
       "      <td>1</td>\n",
       "      <td>4</td>\n",
       "      <td>refrigerateur</td>\n",
       "      <td>https://www.electrodepot.fr/gros-electromenage...</td>\n",
       "    </tr>\n",
       "    <tr>\n",
       "      <th>4</th>\n",
       "      <td>1</td>\n",
       "      <td>5</td>\n",
       "      <td>congelateur</td>\n",
       "      <td>https://www.electrodepot.fr/gros-electromenage...</td>\n",
       "    </tr>\n",
       "    <tr>\n",
       "      <th>5</th>\n",
       "      <td>1</td>\n",
       "      <td>6</td>\n",
       "      <td>four-micro-ondes</td>\n",
       "      <td>https://www.electrodepot.fr/gros-electromenage...</td>\n",
       "    </tr>\n",
       "    <tr>\n",
       "      <th>6</th>\n",
       "      <td>1</td>\n",
       "      <td>7</td>\n",
       "      <td>cuisiniere</td>\n",
       "      <td>https://www.electrodepot.fr/gros-electromenage...</td>\n",
       "    </tr>\n",
       "    <tr>\n",
       "      <th>7</th>\n",
       "      <td>1</td>\n",
       "      <td>8</td>\n",
       "      <td>plaque-de-cuisson</td>\n",
       "      <td>https://www.electrodepot.fr/gros-electromenage...</td>\n",
       "    </tr>\n",
       "    <tr>\n",
       "      <th>8</th>\n",
       "      <td>1</td>\n",
       "      <td>9</td>\n",
       "      <td>hotte</td>\n",
       "      <td>https://www.electrodepot.fr/gros-electromenage...</td>\n",
       "    </tr>\n",
       "    <tr>\n",
       "      <th>9</th>\n",
       "      <td>2</td>\n",
       "      <td>10</td>\n",
       "      <td>television</td>\n",
       "      <td>https://www.electrodepot.fr/tv-image-son/telev...</td>\n",
       "    </tr>\n",
       "    <tr>\n",
       "      <th>10</th>\n",
       "      <td>2</td>\n",
       "      <td>11</td>\n",
       "      <td>support-telecommande-casque-tv</td>\n",
       "      <td>https://www.electrodepot.fr/tv-image-son/suppo...</td>\n",
       "    </tr>\n",
       "    <tr>\n",
       "      <th>11</th>\n",
       "      <td>2</td>\n",
       "      <td>12</td>\n",
       "      <td>tnt-satellite</td>\n",
       "      <td>https://www.electrodepot.fr/tv-image-son/tnt-s...</td>\n",
       "    </tr>\n",
       "    <tr>\n",
       "      <th>12</th>\n",
       "      <td>2</td>\n",
       "      <td>13</td>\n",
       "      <td>connectique</td>\n",
       "      <td>https://www.electrodepot.fr/tv-image-son/conne...</td>\n",
       "    </tr>\n",
       "    <tr>\n",
       "      <th>13</th>\n",
       "      <td>3</td>\n",
       "      <td>14</td>\n",
       "      <td>barre-de-son-home-cinema-lecteur</td>\n",
       "      <td>https://www.electrodepot.fr/tv-image-son/barre...</td>\n",
       "    </tr>\n",
       "    <tr>\n",
       "      <th>14</th>\n",
       "      <td>3</td>\n",
       "      <td>15</td>\n",
       "      <td>ecouteurs-casque</td>\n",
       "      <td>https://www.electrodepot.fr/tv-image-son/ecout...</td>\n",
       "    </tr>\n",
       "    <tr>\n",
       "      <th>15</th>\n",
       "      <td>3</td>\n",
       "      <td>16</td>\n",
       "      <td>photo-camera</td>\n",
       "      <td>https://www.electrodepot.fr/tv-image-son/photo...</td>\n",
       "    </tr>\n",
       "    <tr>\n",
       "      <th>16</th>\n",
       "      <td>3</td>\n",
       "      <td>17</td>\n",
       "      <td>enceinte-chaine-hi-fi</td>\n",
       "      <td>https://www.electrodepot.fr/tv-image-son/encei...</td>\n",
       "    </tr>\n",
       "    <tr>\n",
       "      <th>17</th>\n",
       "      <td>3</td>\n",
       "      <td>18</td>\n",
       "      <td>radio-radio-reveil</td>\n",
       "      <td>https://www.electrodepot.fr/tv-image-son/radio...</td>\n",
       "    </tr>\n",
       "    <tr>\n",
       "      <th>18</th>\n",
       "      <td>3</td>\n",
       "      <td>19</td>\n",
       "      <td>sono-karaoke-mixage</td>\n",
       "      <td>https://www.electrodepot.fr/tv-image-son/sono-...</td>\n",
       "    </tr>\n",
       "  </tbody>\n",
       "</table>\n",
       "</div>"
      ],
      "text/plain": [
       "    famille  id_categ                             categ  \\\n",
       "0         1         1                        lave-linge   \n",
       "1         1         2                       seche-linge   \n",
       "2         1         3                    lave-vaisselle   \n",
       "3         1         4                     refrigerateur   \n",
       "4         1         5                       congelateur   \n",
       "5         1         6                  four-micro-ondes   \n",
       "6         1         7                        cuisiniere   \n",
       "7         1         8                 plaque-de-cuisson   \n",
       "8         1         9                             hotte   \n",
       "9         2        10                        television   \n",
       "10        2        11    support-telecommande-casque-tv   \n",
       "11        2        12                     tnt-satellite   \n",
       "12        2        13                       connectique   \n",
       "13        3        14  barre-de-son-home-cinema-lecteur   \n",
       "14        3        15                  ecouteurs-casque   \n",
       "15        3        16                      photo-camera   \n",
       "16        3        17             enceinte-chaine-hi-fi   \n",
       "17        3        18                radio-radio-reveil   \n",
       "18        3        19               sono-karaoke-mixage   \n",
       "\n",
       "                                                liens  \n",
       "0   https://www.electrodepot.fr/gros-electromenage...  \n",
       "1   https://www.electrodepot.fr/gros-electromenage...  \n",
       "2   https://www.electrodepot.fr/gros-electromenage...  \n",
       "3   https://www.electrodepot.fr/gros-electromenage...  \n",
       "4   https://www.electrodepot.fr/gros-electromenage...  \n",
       "5   https://www.electrodepot.fr/gros-electromenage...  \n",
       "6   https://www.electrodepot.fr/gros-electromenage...  \n",
       "7   https://www.electrodepot.fr/gros-electromenage...  \n",
       "8   https://www.electrodepot.fr/gros-electromenage...  \n",
       "9   https://www.electrodepot.fr/tv-image-son/telev...  \n",
       "10  https://www.electrodepot.fr/tv-image-son/suppo...  \n",
       "11  https://www.electrodepot.fr/tv-image-son/tnt-s...  \n",
       "12  https://www.electrodepot.fr/tv-image-son/conne...  \n",
       "13  https://www.electrodepot.fr/tv-image-son/barre...  \n",
       "14  https://www.electrodepot.fr/tv-image-son/ecout...  \n",
       "15  https://www.electrodepot.fr/tv-image-son/photo...  \n",
       "16  https://www.electrodepot.fr/tv-image-son/encei...  \n",
       "17  https://www.electrodepot.fr/tv-image-son/radio...  \n",
       "18  https://www.electrodepot.fr/tv-image-son/sono-...  "
      ]
     },
     "execution_count": 20,
     "metadata": {},
     "output_type": "execute_result"
    }
   ],
   "source": [
    "dict_categ = {'famille' : id_famille, 'id_categ' : id_categ, 'categ' : lower_categ, 'liens' : all_liens_prod }\n",
    "pd.DataFrame(dict_categ)"
   ]
  },
  {
   "cell_type": "markdown",
   "metadata": {},
   "source": [
    "# Dictionnaire produit"
   ]
  },
  {
   "cell_type": "markdown",
   "metadata": {},
   "source": [
    "## Infos produits"
   ]
  },
  {
   "cell_type": "code",
   "execution_count": 21,
   "metadata": {
    "scrolled": true
   },
   "outputs": [],
   "source": [
    "# ID_Produit\n",
    "# Libelle_produit \n",
    "# Description_produit \n",
    "# Prit_unitaire_HT_produit \n",
    "# code_barre_produit \n",
    "# catégorie_produit \n",
    "# sous_catégorie_produit \n",
    "# famille_produit.\n"
   ]
  },
  {
   "cell_type": "code",
   "execution_count": 22,
   "metadata": {},
   "outputs": [],
   "source": [
    "def emplacement_carac(elem, carac, liste):\n",
    "    for pos,a in enumerate(elem):\n",
    "        if a == carac:\n",
    "            liste.append(pos)\n"
   ]
  },
  {
   "cell_type": "markdown",
   "metadata": {},
   "source": [
    "## Création des url des pages produits "
   ]
  },
  {
   "cell_type": "code",
   "execution_count": 23,
   "metadata": {
    "scrolled": false
   },
   "outputs": [],
   "source": [
    "#prod ménagers liens\n",
    "url_menager = \"https://www.electrodepot.fr/gros-electromenager.html\"\n",
    "result_menager = requests.get(url_menager)\n",
    "soup_menager_page = BeautifulSoup(result_menager.text, 'html.parser')\n",
    "all_page_menager = soup_menager_page.find_all('li',  attrs={'class' :\"child\"})\n",
    "all_page_menage_auto = [price.a.get('href') for price in all_page_menager]\n",
    "\n",
    "#prod sons image liens\n",
    "url_sons_image = \"https://www.electrodepot.fr/tv-image-son.html\"\n",
    "result_sons_image = requests.get(url_sons_image)\n",
    "soup_sons_image_page = BeautifulSoup(result_sons_image.text, 'html.parser')\n",
    "all_page_sons_image = soup_sons_image_page.find_all('li',  attrs={'class' :\"child\"})\n",
    "all_page_sons_image_auto = [price.a.get('href') for price in all_page_sons_image]\n",
    "\n",
    "#all prod liens\n",
    "all_prod_electro_depo = all_page_menage_auto+all_page_sons_image_auto\n"
   ]
  },
  {
   "cell_type": "markdown",
   "metadata": {},
   "source": [
    "# Dictionnaire produits électroménager, sons, image"
   ]
  },
  {
   "cell_type": "code",
   "execution_count": 24,
   "metadata": {},
   "outputs": [],
   "source": [
    "tiret2 = []\n",
    "points = []\n",
    "categorie = []\n",
    "prices = []\n",
    "sous_categ_prod = []\n",
    "Libelle_produit  = []\n",
    "description_auto = []\n",
    "\n",
    "\n",
    "for i in range(len(all_prod_electro_depo)):\n",
    "    \n",
    "    #lien produits\n",
    "    driver_auto = requests.get(all_prod_electro_depo[i])\n",
    "    soup_prod_auto = BeautifulSoup(driver_auto.text, 'html.parser')\n",
    "    \n",
    " #-----------------------------------------------------------------------------------------------------------------------------#    \n",
    "    \n",
    "    #Libelle_produit \n",
    "    libelle = soup_prod_auto.find_all('h2', attrs={'class' :\"productlist-item--name\"})\n",
    "    name = [price.text for price in libelle]\n",
    "    name.remove('')\n",
    "    for i in range(len(name)):\n",
    "        name[i] = name[i].replace(\"\\n                        \", \"\")\n",
    "        name[i] = name[i].replace(\"                    \",\"\")\n",
    "        Libelle_produit .append(name[i])\n",
    "  \n",
    " #-----------------------------------------------------------------------------------------------------------------------------# \n",
    "\n",
    "    #prix produits\n",
    "    prod_price_auto = soup_prod_auto.find_all('div', attrs={'class' :\"number_price\"})\n",
    "    prod_price_all_auto = [price.text for price in prod_price_auto]\n",
    "    prod_price_all_auto = prod_price_all_auto[1:]    \n",
    "    \n",
    "    for i in range(len(prod_price_all_auto)):\n",
    "        prod_price_all_auto[i] = prod_price_all_auto[i].replace(\"'\", \"\")\n",
    "        prod_price_all_auto[i] = prod_price_all_auto[i].replace(\"€\", \".\")\n",
    "        prod_price_all_auto[i] = float(prod_price_all_auto[i])\n",
    "    for i in prod_price_all_auto:\n",
    "        prices.append(i)\n",
    "\n",
    " #-----------------------------------------------------------------------------------------------------------------------------#         \n",
    "        \n",
    "    #catégories\n",
    "    for i in range(len(prod_price_all_auto)):\n",
    "        page_web = soup_prod_auto.find('link', attrs={'rel' :\"canonical\"}, href=True)\n",
    "        page_web_auto = page_web.get('href')\n",
    "        emplacement_carac(page_web_auto, '/', tiret2)\n",
    "        \n",
    "        if len(tiret2)>4:\n",
    "            a = tiret2[3]\n",
    "            b = tiret2[4]\n",
    "            c = page_web_auto[a+1 : b]\n",
    "            categorie.append(c)\n",
    "        else:\n",
    "            categorie.append('television')\n",
    "        tiret2 = []\n",
    "        \n",
    " #-----------------------------------------------------------------------------------------------------------------------------#         \n",
    "        \n",
    "    #sous-catégories   \n",
    "    for i in range(len(prod_price_all_auto)):\n",
    "        page_sous_categ = soup_prod_auto.find('link', attrs={'rel' :\"canonical\"})\n",
    "        page_sous_categ_auto = page_sous_categ.get('href')\n",
    "        emplacement_carac(page_web_auto, '/', tiret2)\n",
    "        emplacement_carac(page_web_auto,'.', points)\n",
    "        a = tiret2[-1]\n",
    "        b = points[-1]\n",
    "        c = page_web_auto[a+1 : b]\n",
    "        sous_categ_prod.append(c)\n",
    "        tiret2 = []\n",
    "        points = []\n",
    "        \n",
    " #-----------------------------------------------------------------------------------------------------------------------------#       \n",
    "    #description produits\n",
    "    description = soup_prod_auto.find_all('div', attrs={'class' :\"productlist-item--description\"})\n",
    "    description_all = [descriptions.ul.text for descriptions in description]\n",
    "    description_all = description_all[1:]\n",
    "    \n",
    "    for i in description_all:\n",
    "        description_auto.append(i[1:-1])\n",
    "    for i in range(len(description_auto)):\n",
    "        description_auto[i] = description_auto[i].replace(\"\\n\", \" ;\")\n",
    "        description_auto[i] = description_auto[i].replace(\" ; ;\", \"\")\n",
    "        \n",
    "\n"
   ]
  },
  {
   "cell_type": "code",
   "execution_count": 25,
   "metadata": {},
   "outputs": [
    {
     "name": "stdout",
     "output_type": "stream",
     "text": [
      "788\n",
      "788\n",
      "788\n",
      "788\n",
      "788\n"
     ]
    }
   ],
   "source": [
    "print(len(categorie))\n",
    "print(len(prices))\n",
    "print(len(sous_categ_prod))\n",
    "print(len(description_auto))\n",
    "print(len(categorie))"
   ]
  },
  {
   "cell_type": "markdown",
   "metadata": {},
   "source": [
    "# Produits liens pages suivantes (si il y en a)"
   ]
  },
  {
   "cell_type": "code",
   "execution_count": 26,
   "metadata": {},
   "outputs": [],
   "source": [
    "url_page = []\n",
    "all_prod_electro_depo = all_page_menage_auto+all_page_sons_image_auto\n",
    "\n",
    "for i in range(len(all_prod_electro_depo)):\n",
    "    \n",
    "    #lien produits\n",
    "    driver_auto = requests.get(all_prod_electro_depo[i])\n",
    "    soup_prod_auto = BeautifulSoup(driver_auto.text, 'html.parser') \n",
    "    \n",
    "    #lien pages suivantes\n",
    "    url_page_auto = soup_prod_auto.find_all('a', attrs={'class' :\"category-pager--link\"}, href=True)\n",
    "    if url_page_auto!=[]:\n",
    "        url_page_auto_all = [price.get('href') for price in url_page_auto]\n",
    "        url_page_auto_all = url_page_auto_all[0:-1]\n",
    "        for i in url_page_auto_all:\n",
    "            url_page.append(i)\n"
   ]
  },
  {
   "cell_type": "code",
   "execution_count": 27,
   "metadata": {
    "scrolled": true
   },
   "outputs": [
    {
     "data": {
      "text/plain": [
       "['https://www.electrodepot.fr/gros-electromenager/refrigerateur/refrigerateur-congelateur.html?page=2',\n",
       " 'https://www.electrodepot.fr/tv-image-son/television/tv-de-109-a-146-cm.html?page=2',\n",
       " 'https://www.electrodepot.fr/tv-image-son/sono-karaoke-mixage/mixage-controleur-usb-casque-dj.html?page=2',\n",
       " 'https://www.electrodepot.fr/tv-image-son/sono-karaoke-mixage/jeux-de-lumiere-trepied.html?page=2']"
      ]
     },
     "execution_count": 27,
     "metadata": {},
     "output_type": "execute_result"
    }
   ],
   "source": [
    "url_page = url_page[0:2]+url_page[7:]\n",
    "url_page"
   ]
  },
  {
   "cell_type": "markdown",
   "metadata": {},
   "source": [
    "## Nombres de produits avant les pages suivantes "
   ]
  },
  {
   "cell_type": "code",
   "execution_count": 28,
   "metadata": {},
   "outputs": [
    {
     "name": "stdout",
     "output_type": "stream",
     "text": [
      "788\n",
      "788\n",
      "788\n",
      "788\n",
      "788\n"
     ]
    }
   ],
   "source": [
    "print(len(categorie))\n",
    "print(len(prices))\n",
    "print(len(sous_categ_prod))\n",
    "print(len(description_auto))\n",
    "print(len(categorie))"
   ]
  },
  {
   "cell_type": "markdown",
   "metadata": {},
   "source": [
    "# Récupération des produits des pages suivantes"
   ]
  },
  {
   "cell_type": "code",
   "execution_count": 29,
   "metadata": {},
   "outputs": [],
   "source": [
    "tiret2 = []\n",
    "points = []\n",
    "\n",
    "for i in range(len(url_page)):\n",
    "    \n",
    "    #lien produits pages suivantes\n",
    "    driver_auto_page = requests.get(url_page[i])\n",
    "    soup_prod_auto_page = BeautifulSoup(driver_auto_page.text, 'html.parser') \n",
    "   \n",
    " #-----------------------------------------------------------------------------------------------------------------------------#\n",
    "    \n",
    "    #Libelle_produit \n",
    "    libelle = soup_prod_auto_page.find_all('h2', attrs={'class' :\"productlist-item--name\"})\n",
    "    name = [price.text for price in libelle]\n",
    "    name.remove('')\n",
    "    for i in range(len(name)):\n",
    "        name[i] = name[i].replace(\"\\n                        \", \"\")\n",
    "        name[i] = name[i].replace(\"                    \",\"\")\n",
    "        Libelle_produit .append(name[i])\n",
    "    \n",
    " #-----------------------------------------------------------------------------------------------------------------------------#   \n",
    "    \n",
    "     #prix produits\n",
    "    prod_price_auto = soup_prod_auto_page.find_all('div', attrs={'class' :\"number_price\"})\n",
    "    prod_price_all_auto = [price.text for price in prod_price_auto]\n",
    "    prod_price_all_auto = prod_price_all_auto[1:]\n",
    "    \n",
    "    for i in range(len(prod_price_all_auto)):\n",
    "        prod_price_all_auto[i] = prod_price_all_auto[i].replace(\"'\", \"\")\n",
    "        prod_price_all_auto[i] = prod_price_all_auto[i].replace(\"€\", \".\")\n",
    "        prod_price_all_auto[i] = float(prod_price_all_auto[i])\n",
    "    for i in prod_price_all_auto:\n",
    "        prices.append(i)\n",
    "    \n",
    " #-----------------------------------------------------------------------------------------------------------------------------#\n",
    "    \n",
    "    #catégories\n",
    "    for i in range(len(prod_price_all_auto)):\n",
    "        page_web = soup_prod_auto.find('link', attrs={'rel' :\"canonical\"}, href = True)\n",
    "        page_web_auto = page_web.get('href')\n",
    "        emplacement_carac(page_web_auto, '/', tiret2)\n",
    "        \n",
    "        if len(tiret2)>3:\n",
    "            a = tiret2[3]\n",
    "            b = tiret2[4]\n",
    "            c = page_web_auto[a+1 : b]\n",
    "            categorie.append(c)\n",
    "        else:\n",
    "            categorie.append('television')\n",
    "        tiret2 = []\n",
    "        \n",
    "  #-----------------------------------------------------------------------------------------------------------------------------#         \n",
    "        \n",
    "    #sous-catégories   \n",
    "    for i in range(len(prod_price_all_auto)):\n",
    "        page_sous_categ = soup_prod_auto.find('link', attrs={'rel' :\"canonical\"})\n",
    "        page_sous_categ_auto = page_sous_categ.get('href')\n",
    "        emplacement_carac(page_web_auto, '/', tiret2)\n",
    "        emplacement_carac(page_web_auto,'.', points)\n",
    "        a = tiret2[-1]\n",
    "        b = points[-1]\n",
    "        c = page_web_auto[a+1 : b]\n",
    "        sous_categ_prod.append(c)\n",
    "        tiret2 = []\n",
    "        points = []       \n",
    "    \n",
    " #-----------------------------------------------------------------------------------------------------------------------------#   \n",
    "    \n",
    "    #description produits\n",
    "    description = soup_prod_auto_page.find_all('div', attrs={'class' :\"productlist-item--description\"})\n",
    "    description_all = [descriptions.ul.text for descriptions in description]\n",
    "    description_all = description_all[1:]\n",
    "    \n",
    "    for i in description_all:\n",
    "        description_auto.append(i[1:-1])\n",
    "    for i in range(len(description_auto)):\n",
    "        description_auto[i] = description_auto[i].replace(\"\\n\", \" ;\")\n",
    "        description_auto[i] = description_auto[i].replace(\" ; ;\", \"aucune description\")\n"
   ]
  },
  {
   "cell_type": "markdown",
   "metadata": {},
   "source": [
    "## Nombres de produits après les pages suivantes  "
   ]
  },
  {
   "cell_type": "code",
   "execution_count": 30,
   "metadata": {},
   "outputs": [
    {
     "name": "stdout",
     "output_type": "stream",
     "text": [
      "814\n",
      "814\n",
      "814\n",
      "814\n",
      "814\n"
     ]
    }
   ],
   "source": [
    "print(len(sous_categ_prod))\n",
    "print(len(prices))\n",
    "print(len(description_auto))\n",
    "print(len(Libelle_produit))\n",
    "print(len(categorie))"
   ]
  },
  {
   "cell_type": "markdown",
   "metadata": {},
   "source": [
    "## Création de la colonne famille et id_produit"
   ]
  },
  {
   "cell_type": "code",
   "execution_count": 31,
   "metadata": {},
   "outputs": [],
   "source": [
    "famille_produits = []\n",
    "id_produits = []\n",
    "for i in categorie:\n",
    "    if i.lower() in lower_categ[0:9]:\n",
    "        famille_produits.append('Electroménager')\n",
    "    if i.lower() in lower_categ[9:13]:\n",
    "        famille_produits.append('Vidéo')\n",
    "    if i.lower() in lower_categ[13:]:\n",
    "        famille_produits.append('Sons')\n",
    "for i in range(len(prices)):\n",
    "    id_produits.append(i+1)\n"
   ]
  },
  {
   "cell_type": "code",
   "execution_count": 32,
   "metadata": {},
   "outputs": [
    {
     "name": "stdout",
     "output_type": "stream",
     "text": [
      "            famille            catégorie     sous_catégorie  id_prod  \\\n",
      "0    Electroménager           lave-linge  lave-linge-hublot        1   \n",
      "1    Electroménager           lave-linge  lave-linge-hublot        2   \n",
      "2    Electroménager           lave-linge  lave-linge-hublot        3   \n",
      "3    Electroménager           lave-linge  lave-linge-hublot        4   \n",
      "4    Electroménager           lave-linge  lave-linge-hublot        5   \n",
      "..              ...                  ...                ...      ...   \n",
      "809            Sons  sono-karaoke-mixage          guitare-e      810   \n",
      "810            Sons  sono-karaoke-mixage          guitare-e      811   \n",
      "811            Sons  sono-karaoke-mixage          guitare-e      812   \n",
      "812            Sons  sono-karaoke-mixage          guitare-e      813   \n",
      "813            Sons  sono-karaoke-mixage          guitare-e      814   \n",
      "\n",
      "                                      Libelle_produit    prix  \\\n",
      "0      Lave-linge hublot 9 kg INDESIT MTWA 91284 W EE  339.98   \n",
      "1       Lave-linge hublot 7 kg VALBERG WF 714 B W566C  299.98   \n",
      "2       Lave-linge hublot 8 kg VALBERG WF 814 B S566C  329.98   \n",
      "3    Lave-linge hublot 5Kg HIGH ONE WF 580 D W701T V2  194.98   \n",
      "4     Lave-Linge hublot 12 kg VALBERG WF 1214 B W566C  439.98   \n",
      "..                                                ...     ...   \n",
      "809               Stroboscope BOOMTONEDJ Double Strob   29.98   \n",
      "810                          Spots LYTOR LED MUSHROOM   19.98   \n",
      "811                               AMPOULE OMNILUX LED    8.98   \n",
      "812                                        MAGIC BALL    9.99   \n",
      "813                                      PAR LED SLIM   11.98   \n",
      "\n",
      "                                           description  \n",
      "0    Nombre de programmes : 16 ;Type de moteur : In...  \n",
      "1    Nombre de programmes : 16 ;Type de moteur : In...  \n",
      "2    Nombre de programmes : 16 ;Type de moteur : In...  \n",
      "3    Nombre de programmes : 15 ;Type de moteur : Cl...  \n",
      "4    Nombre de programmes : 16 ;Type de moteur : In...  \n",
      "..                                                 ...  \n",
      "809               Type : Stroboscopeaucune description  \n",
      "810                  Type : Mushroomaucune description  \n",
      "811       Type : Ampoule effet astroaucune description  \n",
      "812            Type : Globe lumineuxaucune description  \n",
      "813                   Type : Par LEDaucune description  \n",
      "\n",
      "[814 rows x 7 columns]\n"
     ]
    }
   ],
   "source": [
    "dict_produits = {'famille' : famille_produits, 'catégorie' : categorie, 'sous_catégorie' : sous_categ_prod, \n",
    "                 'id_prod' : id_produits, 'Libelle_produit': Libelle_produit, 'prix' : prices, 'description' : description_auto }\n",
    "dict_prod=pd.DataFrame(dict_produits)\n",
    "print(dict_prod)\n",
    "#dict_prod\n",
    "#print('DataFrame:\\n', dict_prod)"
   ]
  },
  {
   "cell_type": "code",
   "execution_count": 33,
   "metadata": {},
   "outputs": [],
   "source": [
    "def to_csv(self,\n",
    "    path_or_buf=None,\n",
    "    sep=\",\",\n",
    "    na_rep=\"\",\n",
    "    float_format=None,\n",
    "    columns=None,\n",
    "    header=True,\n",
    "    index=True,\n",
    "    index_label=None,\n",
    "    mode=\"w\",\n",
    "    encoding=None,\n",
    "    compression=\"infer\",\n",
    "    quoting=None,\n",
    "    quotechar='\"',\n",
    "    line_terminator=None,\n",
    "    chunksize=None,\n",
    "    date_format=None,\n",
    "    doublequote=True,\n",
    "    escapechar=None,\n",
    "    decimal=\".\"):\n",
    "    pass\n",
    "    "
   ]
  },
  {
   "cell_type": "code",
   "execution_count": 34,
   "metadata": {},
   "outputs": [],
   "source": [
    "dict_categories = pd.DataFrame(dict_categ)\n",
    "dict_sous_categories = pd.DataFrame(dict_sous_categ)"
   ]
  },
  {
   "cell_type": "code",
   "execution_count": 35,
   "metadata": {},
   "outputs": [],
   "source": [
    "csv_data = dict_prod.to_csv(index=False)\n",
    "\n",
    "csv_categ = dict_categories.to_csv(index=False)\n",
    "csv_sous_categ = dict_sous_categories.to_csv(index=False)\n",
    "\n"
   ]
  },
  {
   "cell_type": "code",
   "execution_count": 36,
   "metadata": {},
   "outputs": [],
   "source": [
    "with open('csv_data.txt', 'w') as csv_file:\n",
    "    dict_prod.to_csv(path_or_buf=csv_file)\n",
    "with open('csv_categ.txt', 'w') as csv_file:\n",
    "    dict_categories.to_csv(path_or_buf=csv_file)\n",
    "with open('csv_sous_categ.txt', 'w') as csv_file:\n",
    "    dict_sous_categories.to_csv(path_or_buf=csv_file)"
   ]
  },
  {
   "cell_type": "markdown",
   "metadata": {},
   "source": [
    "# ETL (envoi fichiers csv)"
   ]
  },
  {
   "cell_type": "code",
   "execution_count": 41,
   "metadata": {},
   "outputs": [],
   "source": [
    "import mysql.connector\n"
   ]
  },
  {
   "cell_type": "code",
   "execution_count": 45,
   "metadata": {},
   "outputs": [
    {
     "ename": "DatabaseError",
     "evalue": "2005 (HY000): Unknown MySQL server host '127.0.0.1:3312' (11001)",
     "output_type": "error",
     "traceback": [
      "\u001b[1;31m---------------------------------------------------------------------------\u001b[0m",
      "\u001b[1;31mMySQLInterfaceError\u001b[0m                       Traceback (most recent call last)",
      "\u001b[1;32mC:\\ProgramData\\Anaconda3\\lib\\site-packages\\mysql\\connector\\connection_cext.py\u001b[0m in \u001b[0;36m_open_connection\u001b[1;34m(self)\u001b[0m\n\u001b[0;32m    267\u001b[0m         \u001b[1;32mtry\u001b[0m\u001b[1;33m:\u001b[0m\u001b[1;33m\u001b[0m\u001b[1;33m\u001b[0m\u001b[0m\n\u001b[1;32m--> 268\u001b[1;33m             \u001b[0mself\u001b[0m\u001b[1;33m.\u001b[0m\u001b[0m_cmysql\u001b[0m\u001b[1;33m.\u001b[0m\u001b[0mconnect\u001b[0m\u001b[1;33m(\u001b[0m\u001b[1;33m**\u001b[0m\u001b[0mcnx_kwargs\u001b[0m\u001b[1;33m)\u001b[0m\u001b[1;33m\u001b[0m\u001b[1;33m\u001b[0m\u001b[0m\n\u001b[0m\u001b[0;32m    269\u001b[0m             \u001b[0mself\u001b[0m\u001b[1;33m.\u001b[0m\u001b[0m_cmysql\u001b[0m\u001b[1;33m.\u001b[0m\u001b[0mconverter_str_fallback\u001b[0m \u001b[1;33m=\u001b[0m \u001b[0mself\u001b[0m\u001b[1;33m.\u001b[0m\u001b[0m_converter_str_fallback\u001b[0m\u001b[1;33m\u001b[0m\u001b[1;33m\u001b[0m\u001b[0m\n",
      "\u001b[1;31mMySQLInterfaceError\u001b[0m: Unknown MySQL server host '127.0.0.1:3312' (11001)",
      "\nThe above exception was the direct cause of the following exception:\n",
      "\u001b[1;31mDatabaseError\u001b[0m                             Traceback (most recent call last)",
      "\u001b[1;32m~\\AppData\\local\\Temp\\ipykernel_5768\\2208855415.py\u001b[0m in \u001b[0;36m<module>\u001b[1;34m\u001b[0m\n\u001b[1;32m----> 1\u001b[1;33m \u001b[0mcnx\u001b[0m \u001b[1;33m=\u001b[0m \u001b[0mmysql\u001b[0m\u001b[1;33m.\u001b[0m\u001b[0mconnector\u001b[0m\u001b[1;33m.\u001b[0m\u001b[0mconnect\u001b[0m\u001b[1;33m(\u001b[0m\u001b[0muser\u001b[0m\u001b[1;33m=\u001b[0m\u001b[1;34m'root_php@localhost'\u001b[0m\u001b[1;33m,\u001b[0m \u001b[0mpassword\u001b[0m\u001b[1;33m=\u001b[0m\u001b[1;34m'P@ssword'\u001b[0m\u001b[1;33m,\u001b[0m \u001b[0mhost\u001b[0m\u001b[1;33m=\u001b[0m\u001b[1;34m'127.0.0.1:3312'\u001b[0m\u001b[1;33m,\u001b[0m \u001b[0mdatabase\u001b[0m\u001b[1;33m=\u001b[0m\u001b[1;34m'production'\u001b[0m\u001b[1;33m)\u001b[0m\u001b[1;33m\u001b[0m\u001b[1;33m\u001b[0m\u001b[0m\n\u001b[0m",
      "\u001b[1;32mC:\\ProgramData\\Anaconda3\\lib\\site-packages\\mysql\\connector\\pooling.py\u001b[0m in \u001b[0;36mconnect\u001b[1;34m(*args, **kwargs)\u001b[0m\n\u001b[0;32m    284\u001b[0m \u001b[1;33m\u001b[0m\u001b[0m\n\u001b[0;32m    285\u001b[0m     \u001b[1;32mif\u001b[0m \u001b[0mCMySQLConnection\u001b[0m \u001b[1;32mand\u001b[0m \u001b[1;32mnot\u001b[0m \u001b[0muse_pure\u001b[0m\u001b[1;33m:\u001b[0m\u001b[1;33m\u001b[0m\u001b[1;33m\u001b[0m\u001b[0m\n\u001b[1;32m--> 286\u001b[1;33m         \u001b[1;32mreturn\u001b[0m \u001b[0mCMySQLConnection\u001b[0m\u001b[1;33m(\u001b[0m\u001b[1;33m*\u001b[0m\u001b[0margs\u001b[0m\u001b[1;33m,\u001b[0m \u001b[1;33m**\u001b[0m\u001b[0mkwargs\u001b[0m\u001b[1;33m)\u001b[0m\u001b[1;33m\u001b[0m\u001b[1;33m\u001b[0m\u001b[0m\n\u001b[0m\u001b[0;32m    287\u001b[0m     \u001b[1;32mreturn\u001b[0m \u001b[0mMySQLConnection\u001b[0m\u001b[1;33m(\u001b[0m\u001b[1;33m*\u001b[0m\u001b[0margs\u001b[0m\u001b[1;33m,\u001b[0m \u001b[1;33m**\u001b[0m\u001b[0mkwargs\u001b[0m\u001b[1;33m)\u001b[0m\u001b[1;33m\u001b[0m\u001b[1;33m\u001b[0m\u001b[0m\n\u001b[0;32m    288\u001b[0m \u001b[1;33m\u001b[0m\u001b[0m\n",
      "\u001b[1;32mC:\\ProgramData\\Anaconda3\\lib\\site-packages\\mysql\\connector\\connection_cext.py\u001b[0m in \u001b[0;36m__init__\u001b[1;34m(self, **kwargs)\u001b[0m\n\u001b[0;32m     99\u001b[0m \u001b[1;33m\u001b[0m\u001b[0m\n\u001b[0;32m    100\u001b[0m         \u001b[1;32mif\u001b[0m \u001b[0mkwargs\u001b[0m\u001b[1;33m:\u001b[0m\u001b[1;33m\u001b[0m\u001b[1;33m\u001b[0m\u001b[0m\n\u001b[1;32m--> 101\u001b[1;33m             \u001b[0mself\u001b[0m\u001b[1;33m.\u001b[0m\u001b[0mconnect\u001b[0m\u001b[1;33m(\u001b[0m\u001b[1;33m**\u001b[0m\u001b[0mkwargs\u001b[0m\u001b[1;33m)\u001b[0m\u001b[1;33m\u001b[0m\u001b[1;33m\u001b[0m\u001b[0m\n\u001b[0m\u001b[0;32m    102\u001b[0m \u001b[1;33m\u001b[0m\u001b[0m\n\u001b[0;32m    103\u001b[0m     \u001b[1;32mdef\u001b[0m \u001b[0m_add_default_conn_attrs\u001b[0m\u001b[1;33m(\u001b[0m\u001b[0mself\u001b[0m\u001b[1;33m)\u001b[0m\u001b[1;33m:\u001b[0m\u001b[1;33m\u001b[0m\u001b[1;33m\u001b[0m\u001b[0m\n",
      "\u001b[1;32mC:\\ProgramData\\Anaconda3\\lib\\site-packages\\mysql\\connector\\abstracts.py\u001b[0m in \u001b[0;36mconnect\u001b[1;34m(self, **kwargs)\u001b[0m\n\u001b[0;32m   1106\u001b[0m \u001b[1;33m\u001b[0m\u001b[0m\n\u001b[0;32m   1107\u001b[0m         \u001b[0mself\u001b[0m\u001b[1;33m.\u001b[0m\u001b[0mdisconnect\u001b[0m\u001b[1;33m(\u001b[0m\u001b[1;33m)\u001b[0m\u001b[1;33m\u001b[0m\u001b[1;33m\u001b[0m\u001b[0m\n\u001b[1;32m-> 1108\u001b[1;33m         \u001b[0mself\u001b[0m\u001b[1;33m.\u001b[0m\u001b[0m_open_connection\u001b[0m\u001b[1;33m(\u001b[0m\u001b[1;33m)\u001b[0m\u001b[1;33m\u001b[0m\u001b[1;33m\u001b[0m\u001b[0m\n\u001b[0m\u001b[0;32m   1109\u001b[0m         \u001b[1;31m# Server does not allow to run any other statement different from ALTER\u001b[0m\u001b[1;33m\u001b[0m\u001b[1;33m\u001b[0m\u001b[0m\n\u001b[0;32m   1110\u001b[0m         \u001b[1;31m# when user's password has been expired.\u001b[0m\u001b[1;33m\u001b[0m\u001b[1;33m\u001b[0m\u001b[0m\n",
      "\u001b[1;32mC:\\ProgramData\\Anaconda3\\lib\\site-packages\\mysql\\connector\\connection_cext.py\u001b[0m in \u001b[0;36m_open_connection\u001b[1;34m(self)\u001b[0m\n\u001b[0;32m    271\u001b[0m                 \u001b[0mself\u001b[0m\u001b[1;33m.\u001b[0m\u001b[0mconverter\u001b[0m\u001b[1;33m.\u001b[0m\u001b[0mstr_fallback\u001b[0m \u001b[1;33m=\u001b[0m \u001b[0mself\u001b[0m\u001b[1;33m.\u001b[0m\u001b[0m_converter_str_fallback\u001b[0m\u001b[1;33m\u001b[0m\u001b[1;33m\u001b[0m\u001b[0m\n\u001b[0;32m    272\u001b[0m         \u001b[1;32mexcept\u001b[0m \u001b[0mMySQLInterfaceError\u001b[0m \u001b[1;32mas\u001b[0m \u001b[0merr\u001b[0m\u001b[1;33m:\u001b[0m\u001b[1;33m\u001b[0m\u001b[1;33m\u001b[0m\u001b[0m\n\u001b[1;32m--> 273\u001b[1;33m             raise get_mysql_exception(\n\u001b[0m\u001b[0;32m    274\u001b[0m                 \u001b[0mmsg\u001b[0m\u001b[1;33m=\u001b[0m\u001b[0merr\u001b[0m\u001b[1;33m.\u001b[0m\u001b[0mmsg\u001b[0m\u001b[1;33m,\u001b[0m \u001b[0merrno\u001b[0m\u001b[1;33m=\u001b[0m\u001b[0merr\u001b[0m\u001b[1;33m.\u001b[0m\u001b[0merrno\u001b[0m\u001b[1;33m,\u001b[0m \u001b[0msqlstate\u001b[0m\u001b[1;33m=\u001b[0m\u001b[0merr\u001b[0m\u001b[1;33m.\u001b[0m\u001b[0msqlstate\u001b[0m\u001b[1;33m\u001b[0m\u001b[1;33m\u001b[0m\u001b[0m\n\u001b[0;32m    275\u001b[0m             ) from err\n",
      "\u001b[1;31mDatabaseError\u001b[0m: 2005 (HY000): Unknown MySQL server host '127.0.0.1:3312' (11001)"
     ]
    }
   ],

